{
 "cells": [
  {
   "cell_type": "code",
   "execution_count": 1,
   "metadata": {},
   "outputs": [],
   "source": [
    "import os\n",
    "import glob\n",
    "import numpy as np\n",
    "import pandas as pd"
   ]
  },
  {
   "cell_type": "code",
   "execution_count": 2,
   "metadata": {},
   "outputs": [],
   "source": [
    "os.chdir('/Users/dimitrygrebenyuk/Yandex.Disk.localized/Working/PDF/Refinements/PDF-Cluster-Prediction/experimentalPDF')"
   ]
  },
  {
   "cell_type": "code",
   "execution_count": 4,
   "metadata": {},
   "outputs": [
    {
     "data": {
      "text/plain": [
       "['DF198res_5repsacc_01_CPD.gr',\n",
       " 'DF193_40reps_ext_wrongCPD.gr',\n",
       " 'Gd_tfa_iPrOH_kapton15_qmin2_three.gr',\n",
       " 'pdf42_BM39_kapton05_four.gr',\n",
       " 'Gd_tfa_mea_iPrOH_kapton15_three.gr']"
      ]
     },
     "execution_count": 4,
     "metadata": {},
     "output_type": "execute_result"
    }
   ],
   "source": [
    "# Read in data file\n",
    "files = glob.glob('*.gr')"
   ]
  },
  {
   "cell_type": "code",
   "execution_count": 8,
   "metadata": {},
   "outputs": [],
   "source": [
    "for f in files:\n",
    "    data = pd.read_csv(f, header=29, delim_whitespace=True)\n",
    "    df = pd.DataFrame(data)\n",
    "    data.columns = ['r', 'g(r)']\n",
    "    df = df.loc[(df[\"r\"] >= 2) & (df[\"r\"] <= 12)]\n",
    "    x = np.arange(2, 12.01, 0.01)\n",
    "    df[\"interpolated_data\"] = np.interp(x, df[\"r\"], df[\"g(r)\"])\n",
    "    df = df.drop(columns=['g(r)'])\n",
    "    df.rename(columns={\"interpolated_data\":'g(r)'}, inplace=True)\n",
    "    df.to_csv(f.replace('.gr', '_processed.gr'), index=False, sep='\\t')"
   ]
  }
 ],
 "metadata": {
  "kernelspec": {
   "display_name": "Python 3",
   "language": "python",
   "name": "python3"
  },
  "language_info": {
   "codemirror_mode": {
    "name": "ipython",
    "version": 3
   },
   "file_extension": ".py",
   "mimetype": "text/x-python",
   "name": "python",
   "nbconvert_exporter": "python",
   "pygments_lexer": "ipython3",
   "version": "3.9.15 | packaged by conda-forge | (main, Nov 22 2022, 08:48:25) \n[Clang 14.0.6 ]"
  },
  "orig_nbformat": 4,
  "vscode": {
   "interpreter": {
    "hash": "3adb7d5fef717c587deb8377a86ec7783da6fdece6d2a9408ba836e669f2be8b"
   }
  }
 },
 "nbformat": 4,
 "nbformat_minor": 2
}
