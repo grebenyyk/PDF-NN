{
 "cells": [
  {
   "cell_type": "code",
   "execution_count": 7,
   "metadata": {},
   "outputs": [],
   "source": [
    "from diffpy.Structure import loadStructure\n",
    "from diffpy.srreal.pdfcalculator import DebyePDFCalculator, PDFCalculator\n",
    "from matplotlib.pyplot import plot, show\n",
    "import matplotlib.pyplot as plt\n",
    "import glob\n",
    "import numpy as np"
   ]
  },
  {
   "cell_type": "code",
   "execution_count": 9,
   "metadata": {},
   "outputs": [],
   "source": [
    "import contextlib\n",
    "files = glob.glob('/Users/dimitrygrebenyuk/Yandex.Disk.localized/Working/PDF/Refinements/PDF-Cluster-Prediction/clusters/*.xyz')\n",
    "\n",
    "for f in files:\n",
    "    with contextlib.suppress(Exception):\n",
    "        model = loadStructure(f)\n",
    "        dpc = DebyePDFCalculator()\n",
    "        dpc.qmax = 11\n",
    "        dpc.rmax = 12\n",
    "        r, g = dpc(model, qmin=0.3)\n",
    "        datagcalc = np.column_stack([r, g])\n",
    "        np.savetxt(f.replace('.xyz','.dat'), datagcalc, header='r g')"
   ]
  }
 ],
 "metadata": {
  "kernelspec": {
   "display_name": "Python 3",
   "language": "python",
   "name": "python3"
  },
  "language_info": {
   "codemirror_mode": {
    "name": "ipython",
    "version": 3
   },
   "file_extension": ".py",
   "mimetype": "text/x-python",
   "name": "python",
   "nbconvert_exporter": "python",
   "pygments_lexer": "ipython3",
   "version": "3.9.15 | packaged by conda-forge | (main, Nov 22 2022, 08:48:25) \n[Clang 14.0.6 ]"
  },
  "orig_nbformat": 4,
  "vscode": {
   "interpreter": {
    "hash": "3adb7d5fef717c587deb8377a86ec7783da6fdece6d2a9408ba836e669f2be8b"
   }
  }
 },
 "nbformat": 4,
 "nbformat_minor": 2
}
