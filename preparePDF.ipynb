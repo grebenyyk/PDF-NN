{
 "cells": [
  {
   "cell_type": "code",
   "execution_count": 1,
   "metadata": {},
   "outputs": [],
   "source": [
    "from diffpy.Structure import loadStructure\n",
    "from diffpy.srreal.pdfcalculator import DebyePDFCalculator, PDFCalculator\n",
    "from matplotlib.pyplot import plot, show\n",
    "import matplotlib.pyplot as plt\n",
    "import glob\n",
    "import numpy as np\n",
    "import os"
   ]
  },
  {
   "cell_type": "code",
   "execution_count": 2,
   "metadata": {},
   "outputs": [],
   "source": [
    "os.chdir('/Users/dimitrygrebenyuk/Yandex.Disk.localized/Working/PDF/Refinements/PDF-Cluster-Prediction/th_clusters/test_th_groups')"
   ]
  },
  {
   "cell_type": "code",
   "execution_count": 3,
   "metadata": {},
   "outputs": [],
   "source": [
    "import contextlib\n",
    "files = glob.glob('*.xyz')"
   ]
  },
  {
   "cell_type": "code",
   "execution_count": 5,
   "metadata": {},
   "outputs": [],
   "source": [
    "for f in files:\n",
    "    with open(f, \"r\") as file:\n",
    "        # Read the contents of the file\n",
    "        contents = file.readlines()\n",
    "                # Calculate the new value for the first line\n",
    "        new_first_line = str(len(contents) - 2) + \"\\n\"\n",
    "                # Update the first line with the new value\n",
    "        contents[0] = new_first_line\n",
    "            # Open the file in write mode\n",
    "    with open(f, \"w\") as file:\n",
    "                # Write the updated contents to the file\n",
    "        file.writelines(contents)"
   ]
  },
  {
   "cell_type": "code",
   "execution_count": 6,
   "metadata": {},
   "outputs": [],
   "source": [
    "for f in files:\n",
    "    model = loadStructure(f)\n",
    "    dpc = DebyePDFCalculator()\n",
    "    dpc.qmax = 11\n",
    "    dpc.rmax = 20\n",
    "    r, g = dpc(model, qmin=0.3)\n",
    "    datagcalc = np.column_stack([r, g])\n",
    "    np.savetxt(f.replace('.xyz','.dat'), datagcalc, header='r g')"
   ]
  }
 ],
 "metadata": {
  "kernelspec": {
   "display_name": "py37new",
   "language": "python",
   "name": "python3"
  },
  "language_info": {
   "codemirror_mode": {
    "name": "ipython",
    "version": 3
   },
   "file_extension": ".py",
   "mimetype": "text/x-python",
   "name": "python",
   "nbconvert_exporter": "python",
   "pygments_lexer": "ipython3",
   "version": "3.7.3"
  },
  "orig_nbformat": 4,
  "vscode": {
   "interpreter": {
    "hash": "f8a6fbbec4c542ceefa5ff5b41ec7754eef0dcfc01d745c483db9abc301bcdb5"
   }
  }
 },
 "nbformat": 4,
 "nbformat_minor": 2
}
